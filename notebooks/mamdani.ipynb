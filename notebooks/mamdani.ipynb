{
 "cells": [
  {
   "cell_type": "markdown",
   "id": "467fdfff",
   "metadata": {},
   "source": [
    "# Mamdani Inference with HotFIS"
   ]
  },
  {
   "cell_type": "markdown",
   "id": "3d1fb375",
   "metadata": {},
   "source": [
    "> This notebook demonstrates a simple use case where a fuzzy inference system (FIS) is created using HotFIS to address the temperature-heater example often used to illustrate fuzzy logic and Mamdani inference."
   ]
  },
  {
   "cell_type": "markdown",
   "id": "177cd189",
   "metadata": {},
   "source": [
    "---"
   ]
  },
  {
   "cell_type": "markdown",
   "id": "5ec6185d",
   "metadata": {},
   "source": [
    "## Table of Contents"
   ]
  },
  {
   "cell_type": "markdown",
   "id": "4253f68c",
   "metadata": {},
   "source": [
    "* [Setup](#c0)\n",
    "* [FIS Creation](#c1)\n",
    "* [FIS Evaluation](#c2)"
   ]
  },
  {
   "cell_type": "markdown",
   "id": "a7379741",
   "metadata": {},
   "source": [
    "---"
   ]
  },
  {
   "cell_type": "markdown",
   "id": "062de451",
   "metadata": {},
   "source": [
    "## Setup  <a name=\"c0\"></a>"
   ]
  },
  {
   "cell_type": "code",
   "execution_count": 19,
   "id": "86ade2d2",
   "metadata": {},
   "outputs": [],
   "source": [
    "import hotfis as hf\n",
    "\n",
    "# Import matplotlib for plotting functionality\n",
    "import matplotlib.pyplot as plt"
   ]
  },
  {
   "cell_type": "markdown",
   "id": "90d00cd2",
   "metadata": {},
   "source": [
    "---"
   ]
  },
  {
   "cell_type": "markdown",
   "id": "628bc290",
   "metadata": {},
   "source": [
    "## FIS Creation  <a name=\"c1\"></a>"
   ]
  },
  {
   "cell_type": "markdown",
   "id": "4917b32d",
   "metadata": {},
   "source": [
    "##### Create Membership Function Groupset"
   ]
  },
  {
   "cell_type": "markdown",
   "id": "1af54788",
   "metadata": {},
   "source": [
    "> Creating a FIS requires the definition of membership functions corresponding to fuzzy sets. To do this, a FuzzyGroupset must be constructed. FuzzyGroupsets are collections of FuzzyGroups that themselves contain FuzzyFuncs, or functions capable of computing membership of input to implicitly defined fuzzy sets."
   ]
  },
  {
   "cell_type": "code",
   "execution_count": 10,
   "id": "e589b78f",
   "metadata": {},
   "outputs": [],
   "source": [
    "# Define membership function groupset\n",
    "groupset = hf.FuzzyGroupset([\n",
    "    # Define the temperature input group with a domain of 0-100\n",
    "    hf.FuzzyGroup(\"temperature\", 0, 100, [\n",
    "        hf.FuzzyFunc(\"cold\", [30, 40], \"leftedge\"),\n",
    "        hf.FuzzyFunc(\"warm\", [30, 40, 60, 70], \"trapezoidal\"),\n",
    "        hf.FuzzyFunc(\"hot\", [60, 70], \"rightedge\")\n",
    "    ]),\n",
    "\n",
    "    # Define the heater output group with a domain of 0-1\n",
    "    hf.FuzzyGroup(\"heater\", 0.0, 1.0, [\n",
    "        hf.FuzzyFunc(\"off\", [0.1, 0.2], \"leftedge\"),\n",
    "        hf.FuzzyFunc(\"medium\", [0.1, 0.2, 0.8, 0.9], \"trapezoidal\"),\n",
    "        hf.FuzzyFunc(\"on\", [0.8, 0.9], \"rightedge\")\n",
    "    ]),\n",
    "])"
   ]
  },
  {
   "cell_type": "code",
   "execution_count": 13,
   "id": "e7a890df",
   "metadata": {},
   "outputs": [
    {
     "data": {
      "image/png": "[encoded data removed]",
      "text/plain": [
       "<Figure size 432x288 with 2 Axes>"
      ]
     },
     "metadata": {
      "needs_background": "light"
     },
     "output_type": "display_data"
    }
   ],
   "source": [
    "# A group may be plotted with the 'plot' method\n",
    "groupset[\"temperature\"].plot()\n",
    "plt.show()"
   ]
  },
  {
   "cell_type": "markdown",
   "id": "53e53469",
   "metadata": {},
   "source": [
    "##### Create Fuzzy Ruleset"
   ]
  },
  {
   "cell_type": "markdown",
   "id": "d6542f2a",
   "metadata": {},
   "source": [
    "> The other element of a FIS is the ruleset. FuzzyRulesets may be defined with strings representing the rules. The groups and function names of the groupset must be used."
   ]
  },
  {
   "cell_type": "code",
   "execution_count": 14,
   "id": "4884ef84",
   "metadata": {},
   "outputs": [],
   "source": [
    "# Define the fuzzy ruleset using group and function names from above\n",
    "ruleset = hf.FuzzyRuleset([\n",
    "    hf.FuzzyRule(\"if temperature is cold then heater is on\"),\n",
    "    hf.FuzzyRule(\"if temperature is warm then heater is medium\"),\n",
    "    hf.FuzzyRule(\"if temperature is hot then heater is off\"),\n",
    "])"
   ]
  },
  {
   "cell_type": "markdown",
   "id": "56cfc32f",
   "metadata": {},
   "source": [
    "##### Creating the FIS"
   ]
  },
  {
   "cell_type": "code",
   "execution_count": 16,
   "id": "ec211651",
   "metadata": {},
   "outputs": [],
   "source": [
    "# Create the fuzzy inference system\n",
    "fis = hf.FIS(groupset, ruleset)"
   ]
  },
  {
   "cell_type": "markdown",
   "id": "900daed7",
   "metadata": {},
   "source": [
    "---"
   ]
  },
  {
   "cell_type": "markdown",
   "id": "8d27f48b",
   "metadata": {},
   "source": [
    "## FIS Evaluation  <a name=\"c2\"></a>"
   ]
  },
  {
   "cell_type": "markdown",
   "id": "8c2f20a7",
   "metadata": {},
   "source": [
    "##### Set Inputs"
   ]
  },
  {
   "cell_type": "code",
   "execution_count": 31,
   "id": "87d7c0e5",
   "metadata": {},
   "outputs": [],
   "source": [
    "# Inputs must map the input group names as strings to scalar or array-like inputs\n",
    "# Dictionary and Pandas DataFrames are examples of valid input formats\n",
    "temp_inputs = {\"temperature\": 67}"
   ]
  },
  {
   "cell_type": "markdown",
   "id": "9eaf2c18",
   "metadata": {},
   "source": [
    "##### Evaluate the FIS"
   ]
  },
  {
   "cell_type": "markdown",
   "id": "105356cb",
   "metadata": {},
   "source": [
    "> To perform Mamdani evaluation as well as visualize and defuzzify output, the new FIS has the 'eval_mamdani', 'defuzz_mamdani', and 'plot_mamdani' methods. The 'eval_mamdani' method is used to create a dictionary of outputs for each output group. In this case, there will only be output for the 'heater' group. Fuzzified outputs are stored in a tuple with both a domain and codomain as arrays."
   ]
  },
  {
   "cell_type": "code",
   "execution_count": 35,
   "id": "bb5109b0",
   "metadata": {},
   "outputs": [],
   "source": [
    "# Get dictionary of outputs for each group\n",
    "all_outputs = fis.eval_mamdani(temp_inputs)\n",
    "\n",
    "# Get output tuple with domain and codomain for heater group\n",
    "heater_outputs = all_outputs[\"heater\"]\n",
    "\n",
    "# Split domain and codomain of fuzzified output\n",
    "domain, codomain = heater_outputs"
   ]
  },
  {
   "cell_type": "markdown",
   "id": "b07f4bfc",
   "metadata": {},
   "source": [
    "##### Plotting Output"
   ]
  },
  {
   "cell_type": "code",
   "execution_count": 36,
   "id": "8a95cda0",
   "metadata": {},
   "outputs": [
    {
     "data": {
      "image/png": "[encoded data removed]",
      "text/plain": [
       "<Figure size 432x288 with 1 Axes>"
      ]
     },
     "metadata": {
      "needs_background": "light"
     },
     "output_type": "display_data"
    }
   ],
   "source": [
    "# Plot only output\n",
    "fis.plot_mamdani(domain, codomain)\n",
    "plt.show()"
   ]
  },
  {
   "cell_type": "code",
   "execution_count": 45,
   "id": "864f024c",
   "metadata": {},
   "outputs": [
    {
     "data": {
      "image/png": "[encoded data removed]",
      "text/plain": [
       "<Figure size 432x288 with 2 Axes>"
      ]
     },
     "metadata": {
      "needs_background": "light"
     },
     "output_type": "display_data"
    }
   ],
   "source": [
    "# Plot both group and output\n",
    "fis.groupset[\"heater\"].plot()\n",
    "fis.plot_mamdani(domain, codomain)\n",
    "#plt.savefig(\"img/mamdani_ex.png\", bbox_inches=\"tight\", facecolor=\"white\")\n",
    "plt.show()"
   ]
  },
  {
   "cell_type": "markdown",
   "id": "ba19b48e",
   "metadata": {},
   "source": [
    "##### Defuzzifying Output"
   ]
  },
  {
   "cell_type": "code",
   "execution_count": 40,
   "id": "b884f3b3",
   "metadata": {},
   "outputs": [
    {
     "name": "stdout",
     "output_type": "stream",
     "text": [
      "Input  : 67\n",
      "Output : [0.37079499]\n"
     ]
    }
   ],
   "source": [
    "final_output = fis.defuzz_mamdani(domain, codomain)\n",
    "print(f\"Input  : {temp_inputs['temperature']}\")\n",
    "print(f\"Output : {final_output}\")"
   ]
  }
 ],
 "metadata": {
  "kernelspec": {
   "display_name": "Python 3 (ipykernel)",
   "language": "python",
   "name": "python3"
  },
  "language_info": {
   "codemirror_mode": {
    "name": "ipython",
    "version": 3
   },
   "file_extension": ".py",
   "mimetype": "text/x-python",
   "name": "python",
   "nbconvert_exporter": "python",
   "pygments_lexer": "ipython3",
   "version": "3.9.7"
  }
 },
 "nbformat": 4,
 "nbformat_minor": 5
}
