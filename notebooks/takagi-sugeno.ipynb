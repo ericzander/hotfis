{
 "cells": [
  {
   "cell_type": "markdown",
   "id": "cb7dbd8a",
   "metadata": {},
   "source": [
    "# Takagi-Sugeno-Kang Inference with HotFIS"
   ]
  },
  {
   "cell_type": "markdown",
   "id": "303f3bd5",
   "metadata": {},
   "source": [
    "> This notebook demonstrates a use case where a fuzzy inference system (FIS) is created using HotFIS to address the tipping example often used to illustrate fuzzy logic. Zeroth order Takagi-Sugeno-Kang inference is employed with rules having multiple antecedents."
   ]
  },
  {
   "cell_type": "markdown",
   "id": "8c36571e",
   "metadata": {},
   "source": [
    "---"
   ]
  },
  {
   "cell_type": "markdown",
   "id": "acb5fceb",
   "metadata": {},
   "source": [
    "## Table of Contents"
   ]
  },
  {
   "cell_type": "markdown",
   "id": "aea2ba0d",
   "metadata": {},
   "source": [
    "* [Setup](#c0)\n",
    "* [FIS Creation](#c1)\n",
    "* [FIS Evaluation](#c2)"
   ]
  },
  {
   "cell_type": "markdown",
   "id": "34abca48",
   "metadata": {},
   "source": [
    "---"
   ]
  },
  {
   "cell_type": "markdown",
   "id": "3cb6dc44",
   "metadata": {},
   "source": [
    "## Setup  <a name=\"c0\"></a>"
   ]
  },
  {
   "cell_type": "code",
   "execution_count": 1,
   "id": "67ab2745",
   "metadata": {},
   "outputs": [],
   "source": [
    "import hotfis as hf\n",
    "\n",
    "# Import matplotlib for plotting functionality\n",
    "import matplotlib.pyplot as plt"
   ]
  },
  {
   "cell_type": "markdown",
   "id": "96890bd8",
   "metadata": {},
   "source": [
    "---"
   ]
  },
  {
   "cell_type": "markdown",
   "id": "7535b2bd",
   "metadata": {},
   "source": [
    "## FIS Creation  <a name=\"c1\"></a>"
   ]
  },
  {
   "cell_type": "markdown",
   "id": "4c3f415e",
   "metadata": {},
   "source": [
    "##### Create Membership Function Groupset"
   ]
  },
  {
   "cell_type": "markdown",
   "id": "e6a7016f",
   "metadata": {},
   "source": [
    "> Creating a FIS requires the definition of membership functions corresponding to fuzzy sets. To do this, a FuzzyGroupset must be constructed. FuzzyGroupsets are collections of FuzzyGroups that themselves contain FuzzyFuncs, or functions capable of computing membership of input to implicitly defined fuzzy sets."
   ]
  },
  {
   "cell_type": "code",
   "execution_count": 5,
   "id": "9acbaee4",
   "metadata": {},
   "outputs": [],
   "source": [
    "# Define membership function groupset\n",
    "groupset = hf.FuzzyGroupset([\n",
    "    # Input group 1\n",
    "    hf.FuzzyGroup(\"service\", 0, 10, [\n",
    "        hf.FuzzyFunc(\"poor\", [3, 5], \"leftedge\"),\n",
    "        hf.FuzzyFunc(\"good\", [3, 5, 7], \"triangular\"),\n",
    "        hf.FuzzyFunc(\"excellent\", [5, 7], \"rightedge\")\n",
    "    ]),\n",
    "\n",
    "    # Input group 2\n",
    "    hf.FuzzyGroup(\"food\", 0, 10, [\n",
    "        hf.FuzzyFunc(\"rancid\", [4, 6], \"leftedge\"),\n",
    "        hf.FuzzyFunc(\"delicious\", [4, 6], \"rightedge\")\n",
    "    ]),\n",
    "\n",
    "    # Output group with zeroth order TSK outputs as parameters\n",
    "    hf.FuzzyGroup(\"tip\", 0, 30, [\n",
    "        hf.FuzzyFunc(\"cheap\", [7], \"tsk\"),\n",
    "        hf.FuzzyFunc(\"average\", [17], \"tsk\"),\n",
    "        hf.FuzzyFunc(\"generous\", [26], \"tsk\")\n",
    "    ]),\n",
    "])"
   ]
  },
  {
   "cell_type": "code",
   "execution_count": 6,
   "id": "2cffee96",
   "metadata": {},
   "outputs": [
    {
     "data": {
      "image/png": "[encoded data removed]",
      "text/plain": [
       "<Figure size 432x288 with 2 Axes>"
      ]
     },
     "metadata": {
      "needs_background": "light"
     },
     "output_type": "display_data"
    }
   ],
   "source": [
    "# A group may be plotted with the 'plot' method\n",
    "groupset[\"tip\"].plot()\n",
    "plt.show()"
   ]
  },
  {
   "cell_type": "markdown",
   "id": "08c8e80a",
   "metadata": {},
   "source": [
    "##### Create Fuzzy Ruleset"
   ]
  },
  {
   "cell_type": "markdown",
   "id": "1c3349ba",
   "metadata": {},
   "source": [
    "> The other element of a FIS is the ruleset. FuzzyRulesets may be defined with strings representing the rules. The groups and function names of the groupset must be used. Multiple antecedents connected with 'and' and 'or' are supported."
   ]
  },
  {
   "cell_type": "code",
   "execution_count": 7,
   "id": "3de46745",
   "metadata": {},
   "outputs": [],
   "source": [
    "ruleset = hf.FuzzyRuleset([\n",
    "    \"if service is poor or food is rancid then tip is cheap\",\n",
    "    \"if service is good then tip is average\",\n",
    "    \"if service is excellent or food is delicious then tip is generous\",\n",
    "])"
   ]
  },
  {
   "cell_type": "markdown",
   "id": "704da832",
   "metadata": {},
   "source": [
    "##### Creating the FIS"
   ]
  },
  {
   "cell_type": "code",
   "execution_count": 8,
   "id": "a86bc003",
   "metadata": {},
   "outputs": [],
   "source": [
    "# Create the fuzzy inference system\n",
    "fis = hf.FIS(groupset, ruleset)"
   ]
  },
  {
   "cell_type": "markdown",
   "id": "46aa9209",
   "metadata": {},
   "source": [
    "---"
   ]
  },
  {
   "cell_type": "markdown",
   "id": "149265cb",
   "metadata": {},
   "source": [
    "## FIS Evaluation  <a name=\"c2\"></a>"
   ]
  },
  {
   "cell_type": "markdown",
   "id": "7ff94b4a",
   "metadata": {},
   "source": [
    "##### Set Inputs"
   ]
  },
  {
   "cell_type": "code",
   "execution_count": 22,
   "id": "6776239d",
   "metadata": {},
   "outputs": [],
   "source": [
    "# Inputs must map the input group names as strings to scalar or array-like inputs\n",
    "# Dictionary and Pandas DataFrames are examples of valid input formats\n",
    "inputs = {\"service\": 4.3, \"food\": 6.5}"
   ]
  },
  {
   "cell_type": "markdown",
   "id": "fbfefa4d",
   "metadata": {},
   "source": [
    "##### Evaluate the FIS"
   ]
  },
  {
   "cell_type": "markdown",
   "id": "7f04f42a",
   "metadata": {},
   "source": [
    "> To perform Mamdani evaluation as well as visualize and defuzzify output, the new FIS has the 'eval_mamdani', 'defuzz_mamdani', and 'plot_mamdani' methods. The 'eval_mamdani' method is used to create a dictionary of outputs for each output group. In this case, there will only be output for the 'heater' group. Fuzzified outputs are stored in a tuple with both a domain and codomain as arrays."
   ]
  },
  {
   "cell_type": "code",
   "execution_count": 28,
   "id": "474fdcdb",
   "metadata": {},
   "outputs": [
    {
     "name": "stdout",
     "output_type": "stream",
     "text": [
      "Service : (4.3)\n",
      "Food    : (6.5)\n",
      "--> Tip (19.75)\n"
     ]
    }
   ],
   "source": [
    "# Get dictionary of outputs for each group\n",
    "all_outputs = fis.eval_tsk(inputs)\n",
    "\n",
    "# Get output tuple with domain and codomain for heater group\n",
    "tip_output = all_outputs[\"tip\"]\n",
    "\n",
    "# Print input and output\n",
    "print(f\"Service : ({inputs['service']})\")\n",
    "print(f\"Food    : ({inputs['food']})\")\n",
    "print(f\"--> Tip ({tip_outputs})\")"
   ]
  },
  {
   "cell_type": "markdown",
   "id": "35e16060",
   "metadata": {},
   "source": [
    "##### Plotting Output"
   ]
  },
  {
   "cell_type": "code",
   "execution_count": 31,
   "id": "f60c28b7",
   "metadata": {},
   "outputs": [
    {
     "data": {
      "image/png": "[encoded data removed]",
      "text/plain": [
       "<Figure size 432x288 with 1 Axes>"
      ]
     },
     "metadata": {
      "needs_background": "light"
     },
     "output_type": "display_data"
    }
   ],
   "source": [
    "# Plot only output\n",
    "fis.plot_tsk(tip_output)\n",
    "plt.show()"
   ]
  },
  {
   "cell_type": "code",
   "execution_count": 32,
   "id": "f14d7aa0",
   "metadata": {},
   "outputs": [
    {
     "data": {
      "image/png": "[encoded data removed]",
      "text/plain": [
       "<Figure size 432x288 with 2 Axes>"
      ]
     },
     "metadata": {
      "needs_background": "light"
     },
     "output_type": "display_data"
    }
   ],
   "source": [
    "# Plot both group and output\n",
    "fis.groupset[\"tip\"].plot()\n",
    "fis.plot_tsk(tip_output)\n",
    "#plt.savefig(\"img/tsk_ex.png\", bbox_inches=\"tight\", facecolor=\"white\")\n",
    "plt.show()"
   ]
  }
 ],
 "metadata": {
  "kernelspec": {
   "display_name": "Python 3 (ipykernel)",
   "language": "python",
   "name": "python3"
  },
  "language_info": {
   "codemirror_mode": {
    "name": "ipython",
    "version": 3
   },
   "file_extension": ".py",
   "mimetype": "text/x-python",
   "name": "python",
   "nbconvert_exporter": "python",
   "pygments_lexer": "ipython3",
   "version": "3.9.7"
  }
 },
 "nbformat": 4,
 "nbformat_minor": 5
}
