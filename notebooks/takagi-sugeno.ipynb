{
 "cells": [
  {
   "cell_type": "markdown",
   "metadata": {},
   "source": [
    "# Takagi-Sugeno-Kang Inference with HotFIS"
   ]
  },
  {
   "cell_type": "markdown",
   "metadata": {},
   "source": [
    "> This notebook demonstrates a use case where a fuzzy inference system (FIS) is created using HotFIS to address the tipping example often used to illustrate fuzzy logic. Zeroth order Takagi-Sugeno-Kang inference is employed with rules having multiple antecedents."
   ]
  },
  {
   "cell_type": "markdown",
   "metadata": {},
   "source": [
    "---"
   ]
  },
  {
   "cell_type": "markdown",
   "metadata": {},
   "source": [
    "## Table of Contents"
   ]
  },
  {
   "cell_type": "markdown",
   "metadata": {},
   "source": [
    "* [Setup](#c0)\n",
    "* [FIS Creation](#c1)\n",
    "* [FIS Evaluation](#c2)"
   ]
  },
  {
   "cell_type": "markdown",
   "metadata": {},
   "source": [
    "---"
   ]
  },
  {
   "cell_type": "markdown",
   "metadata": {},
   "source": [
    "## Setup  <a name=\"c0\"></a>"
   ]
  },
  {
   "cell_type": "code",
   "execution_count": 1,
   "metadata": {},
   "outputs": [],
   "source": [
    "import hotfis as hf\n",
    "\n",
    "# Import matplotlib for plotting functionality\n",
    "import matplotlib.pyplot as plt"
   ]
  },
  {
   "cell_type": "markdown",
   "metadata": {},
   "source": [
    "---"
   ]
  },
  {
   "cell_type": "markdown",
   "metadata": {},
   "source": [
    "## FIS Creation  <a name=\"c1\"></a>"
   ]
  },
  {
   "cell_type": "markdown",
   "metadata": {},
   "source": [
    "##### Create Membership Function Groupset"
   ]
  },
  {
   "cell_type": "markdown",
   "metadata": {},
   "source": [
    "> Creating a FIS requires the definition of membership functions corresponding to fuzzy sets. To do this, a FuzzyGroupset must be constructed. FuzzyGroupsets are collections of FuzzyGroups that themselves contain FuzzyFuncs, or functions capable of computing membership of input to implicitly defined fuzzy sets."
   ]
  },
  {
   "cell_type": "code",
   "execution_count": 2,
   "metadata": {},
   "outputs": [],
   "source": [
    "# Define membership function groupset\n",
    "groupset = hf.FuzzyGroupset([\n",
    "    # Input group 1\n",
    "    hf.FuzzyGroup(\"service\", 0, 10, [\n",
    "        hf.FuzzyFunc(\"poor\", [3, 5], \"leftedge\"),\n",
    "        hf.FuzzyFunc(\"good\", [3, 5, 7], \"triangular\"),\n",
    "        hf.FuzzyFunc(\"excellent\", [5, 7], \"rightedge\")\n",
    "    ]),\n",
    "\n",
    "    # Input group 2\n",
    "    hf.FuzzyGroup(\"food\", 0, 10, [\n",
    "        hf.FuzzyFunc(\"rancid\", [4, 6], \"leftedge\"),\n",
    "        hf.FuzzyFunc(\"delicious\", [4, 6], \"rightedge\")\n",
    "    ]),\n",
    "\n",
    "    # Output group with zeroth order TSK outputs as parameters\n",
    "    hf.FuzzyGroup(\"tip\", 0, 30, [\n",
    "        hf.FuzzyFunc(\"cheap\", [7], \"tsk\"),\n",
    "        hf.FuzzyFunc(\"average\", [17], \"tsk\"),\n",
    "        hf.FuzzyFunc(\"generous\", [26], \"tsk\")\n",
    "    ]),\n",
    "])"
   ]
  },
  {
   "cell_type": "code",
   "execution_count": 3,
   "metadata": {},
   "outputs": [
    {
     "data": {
      "image/png": "[encoded data removed]",
      "text/plain": [
       "<Figure size 432x288 with 2 Axes>"
      ]
     },
     "metadata": {
      "needs_background": "light"
     },
     "output_type": "display_data"
    }
   ],
   "source": [
    "# A group may be plotted with the 'plot' method\n",
    "groupset[\"tip\"].plot()\n",
    "plt.show()"
   ]
  },
  {
   "cell_type": "markdown",
   "metadata": {},
   "source": [
    "##### Create Fuzzy Ruleset"
   ]
  },
  {
   "cell_type": "markdown",
   "metadata": {},
   "source": [
    "> The other element of a FIS is the ruleset. FuzzyRulesets may be defined with strings representing the rules. The groups and function names of the groupset must be used. Multiple antecedents connected with 'and' and 'or' are supported."
   ]
  },
  {
   "cell_type": "code",
   "execution_count": 4,
   "metadata": {},
   "outputs": [],
   "source": [
    "ruleset = hf.FuzzyRuleset([\n",
    "    \"if service is poor or food is rancid then tip is cheap\",\n",
    "    \"if service is good then tip is average\",\n",
    "    \"if service is excellent or food is delicious then tip is generous\",\n",
    "])"
   ]
  },
  {
   "cell_type": "markdown",
   "metadata": {},
   "source": [
    "##### Creating the FIS"
   ]
  },
  {
   "cell_type": "code",
   "execution_count": 5,
   "metadata": {},
   "outputs": [],
   "source": [
    "# Create the fuzzy inference system\n",
    "fis = hf.FIS(groupset, ruleset)"
   ]
  },
  {
   "cell_type": "markdown",
   "metadata": {},
   "source": [
    "---"
   ]
  },
  {
   "cell_type": "markdown",
   "metadata": {},
   "source": [
    "## FIS Evaluation  <a name=\"c2\"></a>"
   ]
  },
  {
   "cell_type": "markdown",
   "metadata": {},
   "source": [
    "##### Set Inputs"
   ]
  },
  {
   "cell_type": "code",
   "execution_count": 6,
   "metadata": {},
   "outputs": [],
   "source": [
    "# Inputs must map the input group names as strings to scalar or array-like inputs\n",
    "# Dictionary and Pandas DataFrames are examples of valid input formats\n",
    "inputs = {\"service\": 4.3, \"food\": 6.5}"
   ]
  },
  {
   "cell_type": "markdown",
   "metadata": {},
   "source": [
    "##### Evaluate the FIS"
   ]
  },
  {
   "cell_type": "markdown",
   "metadata": {},
   "source": [
    "> To perform Mamdani evaluation as well as visualize and defuzzify output, the new FIS has the 'eval_mamdani', 'defuzz_mamdani', and 'plot_mamdani' methods. The 'eval_mamdani' method is used to create a dictionary of outputs for each output group. In this case, there will only be output for the 'heater' group. Fuzzified outputs are stored in a tuple with both a domain and codomain as arrays."
   ]
  },
  {
   "cell_type": "code",
   "execution_count": 7,
   "metadata": {},
   "outputs": [
    {
     "name": "stdout",
     "output_type": "stream",
     "text": [
      "Service : (4.3)\n",
      "Food    : (6.5)\n",
      "--> Tip (19.75)\n"
     ]
    }
   ],
   "source": [
    "# Get dictionary of outputs for each group\n",
    "all_outputs = fis.eval_tsk(inputs)\n",
    "\n",
    "# Get output tuple with domain and codomain for heater group\n",
    "tip_output = all_outputs[\"tip\"]\n",
    "\n",
    "# Print input and output\n",
    "print(f\"Service : ({inputs['service']})\")\n",
    "print(f\"Food    : ({inputs['food']})\")\n",
    "print(f\"--> Tip ({tip_output})\")"
   ]
  },
  {
   "cell_type": "markdown",
   "metadata": {},
   "source": [
    "##### Plotting Output"
   ]
  },
  {
   "cell_type": "code",
   "execution_count": 9,
   "metadata": {},
   "outputs": [
    {
     "data": {
      "image/png": "[encoded data removed]",
      "text/plain": [
       "<Figure size 1200x750 with 2 Axes>"
      ]
     },
     "metadata": {
      "needs_background": "light"
     },
     "output_type": "display_data"
    }
   ],
   "source": [
    "# Plot both group and output\n",
    "plt.figure(figsize=(4, 2.5), dpi=300)\n",
    "fis.groupset[\"tip\"].plot()\n",
    "fis.plot_tsk(tip_output)\n",
    "# plt.savefig(\"img/tsk_ex.png\", bbox_inches=\"tight\", facecolor=\"white\")\n",
    "plt.show()"
   ]
  }
 ],
 "metadata": {
  "kernelspec": {
   "display_name": "Python 3",
   "language": "python",
   "name": "python3"
  },
  "language_info": {
   "codemirror_mode": {
    "name": "ipython",
    "version": 3
   },
   "file_extension": ".py",
   "mimetype": "text/x-python",
   "name": "python",
   "nbconvert_exporter": "python",
   "pygments_lexer": "ipython3",
   "version": "3.8.3"
  }
 },
 "nbformat": 4,
 "nbformat_minor": 5
}
